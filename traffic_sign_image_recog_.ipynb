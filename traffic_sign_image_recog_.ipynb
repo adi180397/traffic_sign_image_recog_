{
  "cells": [
    {
      "cell_type": "markdown",
      "metadata": {
        "id": "view-in-github",
        "colab_type": "text"
      },
      "source": [
        "<a href=\"https://colab.research.google.com/github/adi180397/traffic_sign_image_recog_/blob/main/traffic_sign_image_recog_.ipynb\" target=\"_parent\"><img src=\"https://colab.research.google.com/assets/colab-badge.svg\" alt=\"Open In Colab\"/></a>"
      ]
    },
    {
      "cell_type": "code",
      "execution_count": null,
      "metadata": {
        "id": "9jGW4Xd_cIUh"
      },
      "outputs": [],
      "source": [
        "import pandas as pd\n",
        "import numpy as np"
      ]
    },
    {
      "cell_type": "code",
      "execution_count": null,
      "metadata": {
        "id": "1N-QaPYXcZ3k"
      },
      "outputs": [],
      "source": [
        "\n",
        "import matplotlib.pyplot as plt\n",
        "import tensorflow as tf\n",
        "from tensorflow import keras\n",
        "from PIL import Image\n",
        "import os\n",
        "from sklearn.model_selection import train_test_split\n",
        "from keras.utils import to_categorical\n",
        "from keras.models import Sequential\n",
        "from keras.layers import Conv2D, MaxPool2D, Dense, Flatten, Dropout"
      ]
    },
    {
      "cell_type": "code",
      "execution_count": null,
      "metadata": {
        "id": "Y2DCIAtdcaCO"
      },
      "outputs": [],
      "source": [
        "!mkdir -p ~/.kaggle\n",
        "!cp kaggle.json ~/.kaggle/"
      ]
    },
    {
      "cell_type": "code",
      "execution_count": null,
      "metadata": {
        "colab": {
          "base_uri": "https://localhost:8080/"
        },
        "id": "trQiNkoKcaFZ",
        "outputId": "2343145f-4fed-4822-f9e5-4be67752ac8f"
      },
      "outputs": [
        {
          "output_type": "stream",
          "name": "stdout",
          "text": [
            "Warning: Your Kaggle API key is readable by other users on this system! To fix this, you can run 'chmod 600 /root/.kaggle/kaggle.json'\n",
            "Downloading gtsrb-german-traffic-sign.zip to /content\n",
            "100% 610M/612M [00:05<00:00, 138MB/s]\n",
            "100% 612M/612M [00:05<00:00, 122MB/s]\n"
          ]
        }
      ],
      "source": [
        "!kaggle datasets download -d meowmeowmeowmeowmeow/gtsrb-german-traffic-sign"
      ]
    },
    {
      "cell_type": "code",
      "execution_count": null,
      "metadata": {
        "id": "KMHmABnxcaIi"
      },
      "outputs": [],
      "source": [
        "import zipfile\n",
        "zip_ref = zipfile.ZipFile('/content/gtsrb-german-traffic-sign.zip', 'r')\n",
        "zip_ref.extractall('/content')\n",
        "zip_ref.close()"
      ]
    },
    {
      "cell_type": "code",
      "execution_count": null,
      "metadata": {
        "id": "x592nDl_caLO"
      },
      "outputs": [],
      "source": []
    },
    {
      "cell_type": "code",
      "execution_count": null,
      "metadata": {
        "id": "pYbowdNqtUpC"
      },
      "outputs": [],
      "source": [
        "import os\n",
        "import numpy as np\n",
        "from PIL import Image\n",
        "\n",
        "data = []\n",
        "labels = []\n",
        "classes = 43\n",
        "cur_path = os.getcwd()\n",
        "\n",
        "for i in range(classes):\n",
        "    path = os.path.join(cur_path, 'train', str(i))\n",
        "    images = os.listdir(path)\n",
        "\n",
        "    for a in images:\n",
        "        try:\n",
        "            image = Image.open(os.path.join(path, a))\n",
        "            image = image.resize((32, 32))\n",
        "            image = np.array(image)\n",
        "            data.append(image)\n",
        "            labels.append(i)\n",
        "        except:\n",
        "            print('Error loading image:', a)\n",
        "\n",
        "data = np.array(data)\n",
        "labels = np.array(labels)\n"
      ]
    },
    {
      "cell_type": "code",
      "execution_count": null,
      "metadata": {
        "colab": {
          "base_uri": "https://localhost:8080/"
        },
        "id": "EwDNDKYPjR_7",
        "outputId": "6cfc9ee3-e7db-4fea-989f-27a5d0aa7982"
      },
      "outputs": [
        {
          "output_type": "stream",
          "name": "stdout",
          "text": [
            "(31367, 32, 32, 3) (7842, 32, 32, 3) (31367,) (7842,)\n"
          ]
        }
      ],
      "source": [
        "X_t1, X_t2, y_t1, y_t2 = train_test_split(data, labels, test_size=0.2, random_state=42)\n",
        "print(X_t1.shape, X_t2.shape, y_t1.shape, y_t2.shape)\n",
        "#Converting the labels into one hot encoding\n",
        "y_t1 = to_categorical(y_t1, 43)\n",
        "y_t2 = to_categorical(y_t2, 43)\n"
      ]
    },
    {
      "cell_type": "code",
      "execution_count": null,
      "metadata": {
        "id": "oCxgzVPHrl_P"
      },
      "outputs": [],
      "source": [
        "model = Sequential()\n",
        "model.add(Conv2D(filters=32, kernel_size=(5,5), activation='relu', input_shape=X_t1.shape[1:]))\n",
        "model.add(Conv2D(filters=32, kernel_size=(5,5), activation='relu'))\n",
        "model.add(MaxPool2D(pool_size=(2, 2)))\n",
        "model.add(Dropout(rate=0.25))\n",
        "model.add(Conv2D(filters=64, kernel_size=(3, 3), activation='relu'))\n",
        "model.add(Conv2D(filters=64, kernel_size=(3, 3), activation='relu'))\n",
        "model.add(MaxPool2D(pool_size=(2, 2)))\n",
        "model.add(Dropout(rate=0.25))\n",
        "model.add(Flatten())\n",
        "model.add(Dense(256, activation='relu'))\n",
        "model.add(Dropout(rate=0.5))\n",
        "model.add(Dense(43, activation='softmax'))\n",
        "#Compilation of the model\n",
        "model.compile(loss='categorical_crossentropy', optimizer='adam', metrics=['accuracy'])"
      ]
    },
    {
      "cell_type": "code",
      "execution_count": null,
      "metadata": {
        "colab": {
          "base_uri": "https://localhost:8080/"
        },
        "id": "Jz-6pIOYr4Uz",
        "outputId": "894e7188-a086-4b4a-9f15-a5dfdc0b6d6d"
      },
      "outputs": [
        {
          "output_type": "stream",
          "name": "stdout",
          "text": [
            "Epoch 1/20\n",
            "981/981 [==============================] - 18s 7ms/step - loss: 2.0977 - accuracy: 0.4515 - val_loss: 0.6926 - val_accuracy: 0.8104\n",
            "Epoch 2/20\n",
            "981/981 [==============================] - 6s 6ms/step - loss: 0.7283 - accuracy: 0.7791 - val_loss: 0.2323 - val_accuracy: 0.9415\n",
            "Epoch 3/20\n",
            "981/981 [==============================] - 5s 5ms/step - loss: 0.4563 - accuracy: 0.8605 - val_loss: 0.1814 - val_accuracy: 0.9529\n",
            "Epoch 4/20\n",
            "981/981 [==============================] - 6s 6ms/step - loss: 0.3612 - accuracy: 0.8940 - val_loss: 0.1188 - val_accuracy: 0.9647\n",
            "Epoch 5/20\n",
            "981/981 [==============================] - 6s 6ms/step - loss: 0.3152 - accuracy: 0.9080 - val_loss: 0.1351 - val_accuracy: 0.9643\n",
            "Epoch 6/20\n",
            "981/981 [==============================] - 7s 7ms/step - loss: 0.2655 - accuracy: 0.9222 - val_loss: 0.0975 - val_accuracy: 0.9717\n",
            "Epoch 7/20\n",
            "981/981 [==============================] - 5s 5ms/step - loss: 0.2702 - accuracy: 0.9239 - val_loss: 0.0854 - val_accuracy: 0.9770\n",
            "Epoch 8/20\n",
            "981/981 [==============================] - 6s 6ms/step - loss: 0.2344 - accuracy: 0.9348 - val_loss: 0.0814 - val_accuracy: 0.9772\n",
            "Epoch 9/20\n",
            "981/981 [==============================] - 5s 5ms/step - loss: 0.2255 - accuracy: 0.9360 - val_loss: 0.1008 - val_accuracy: 0.9702\n",
            "Epoch 10/20\n",
            "981/981 [==============================] - 6s 6ms/step - loss: 0.2346 - accuracy: 0.9343 - val_loss: 0.0777 - val_accuracy: 0.9779\n",
            "Epoch 11/20\n",
            "981/981 [==============================] - 5s 5ms/step - loss: 0.2356 - accuracy: 0.9355 - val_loss: 0.0649 - val_accuracy: 0.9830\n",
            "Epoch 12/20\n",
            "981/981 [==============================] - 6s 6ms/step - loss: 0.2012 - accuracy: 0.9436 - val_loss: 0.0920 - val_accuracy: 0.9769\n",
            "Epoch 13/20\n",
            "981/981 [==============================] - 5s 5ms/step - loss: 0.2064 - accuracy: 0.9417 - val_loss: 0.0668 - val_accuracy: 0.9829\n",
            "Epoch 14/20\n",
            "981/981 [==============================] - 7s 7ms/step - loss: 0.2263 - accuracy: 0.9419 - val_loss: 0.0582 - val_accuracy: 0.9855\n",
            "Epoch 15/20\n",
            "981/981 [==============================] - 6s 6ms/step - loss: 0.2056 - accuracy: 0.9452 - val_loss: 0.0526 - val_accuracy: 0.9856\n",
            "Epoch 16/20\n",
            "981/981 [==============================] - 6s 6ms/step - loss: 0.1720 - accuracy: 0.9538 - val_loss: 0.0662 - val_accuracy: 0.9838\n",
            "Epoch 17/20\n",
            "981/981 [==============================] - 5s 5ms/step - loss: 0.1978 - accuracy: 0.9501 - val_loss: 0.0499 - val_accuracy: 0.9864\n",
            "Epoch 18/20\n",
            "981/981 [==============================] - 6s 6ms/step - loss: 0.1982 - accuracy: 0.9496 - val_loss: 0.1009 - val_accuracy: 0.9707\n",
            "Epoch 19/20\n",
            "981/981 [==============================] - 6s 6ms/step - loss: 0.1868 - accuracy: 0.9517 - val_loss: 0.0465 - val_accuracy: 0.9897\n",
            "Epoch 20/20\n",
            "981/981 [==============================] - 6s 6ms/step - loss: 0.1951 - accuracy: 0.9532 - val_loss: 0.0660 - val_accuracy: 0.9844\n"
          ]
        }
      ],
      "source": [
        "history = model.fit(X_t1, y_t1, batch_size=32, epochs=20, validation_data=(X_t2, y_t2))"
      ]
    },
    {
      "cell_type": "code",
      "execution_count": null,
      "metadata": {
        "colab": {
          "base_uri": "https://localhost:8080/",
          "height": 927
        },
        "id": "FvyH-bcFl0_x",
        "outputId": "2c262d8e-a423-4139-906d-71cd305b114f"
      },
      "outputs": [
        {
          "output_type": "display_data",
          "data": {
            "text/plain": [
              "<Figure size 640x480 with 1 Axes>"
            ],
            "image/png": "[encoded data removed]"
          },
          "metadata": {}
        },
        {
          "output_type": "display_data",
          "data": {
            "text/plain": [
              "<Figure size 640x480 with 1 Axes>"
            ],
            "image/png": "[encoded data removed]"
          },
          "metadata": {}
        }
      ],
      "source": [
        "plt.figure(0)\n",
        "plt.plot(history.history['accuracy'], label='training accuracy')\n",
        "plt.plot(history.history['val_accuracy'], label='val accuracy')\n",
        "plt.title('Accuracy')\n",
        "plt.xlabel('epochs')\n",
        "plt.ylabel('accuracy')\n",
        "plt.legend()\n",
        "plt.show()\n",
        "plt.figure(1)\n",
        "plt.plot(history.history['loss'], label='training loss')\n",
        "plt.plot(history.history['val_loss'], label='val loss')\n",
        "plt.title('Loss')\n",
        "plt.xlabel('epochs')\n",
        "plt.ylabel('loss')\n",
        "plt.legend()\n",
        "plt.show()"
      ]
    },
    {
      "cell_type": "code",
      "execution_count": null,
      "metadata": {
        "colab": {
          "background_save": true
        },
        "id": "_Y-Cj574myxM",
        "outputId": "72e24ff3-9e53-4bf6-a40a-d508e1171dee"
      },
      "outputs": [
        {
          "name": "stdout",
          "output_type": "stream",
          "text": [
            "395/395 [==============================] - 1s 2ms/step\n",
            "Accuracy with the test data: 0.9581947743467933\n"
          ]
        }
      ],
      "source": [
        "#testing accuracy on test dataset\n",
        "from sklearn.metrics import accuracy_score\n",
        "import pandas as pd\n",
        "import numpy as np\n",
        "from PIL import Image\n",
        "\n",
        "# Load test data\n",
        "y_test = pd.read_csv('Test.csv')\n",
        "labels = y_test[\"ClassId\"].values\n",
        "imgs = y_test[\"Path\"].values\n",
        "\n",
        "data = []\n",
        "for img in imgs:\n",
        "    image = Image.open(img)\n",
        "    image = image.resize((32, 32))\n",
        "    data.append(np.array(image))\n",
        "X_test = np.array(data)\n",
        "\n",
        "# Make predictions\n",
        "pred = model.predict(X_test)\n",
        "\n",
        "# Convert predictions to discrete class labels if needed\n",
        "if pred.ndim > 1:  # Check if predictions are in continuous-multioutput format\n",
        "    pred = np.argmax(pred, axis=1)\n",
        "\n",
        "# Ensure labels and predictions are of the same type\n",
        "labels = labels.astype(int)\n",
        "\n",
        "# Compute accuracy\n",
        "accuracy = accuracy_score(labels, pred)\n",
        "print(\"Accuracy with the test data:\", accuracy)\n"
      ]
    },
    {
      "cell_type": "code",
      "execution_count": null,
      "metadata": {
        "colab": {
          "base_uri": "https://localhost:8080/"
        },
        "id": "Nat-B21Pmy0B",
        "outputId": "51d9a53b-07c5-4d3e-88b9-51b1a9319d0f"
      },
      "outputs": [
        {
          "name": "stderr",
          "output_type": "stream",
          "text": [
            "WARNING:absl:Found untraced functions such as _jit_compiled_convolution_op, _jit_compiled_convolution_op, _jit_compiled_convolution_op, _jit_compiled_convolution_op while saving (showing 4 of 4). These functions will not be directly callable after loading.\n"
          ]
        }
      ],
      "source": [
        "model.save('traffic_sign_classifier')"
      ]
    },
    {
      "cell_type": "code",
      "execution_count": null,
      "metadata": {
        "id": "KQUQ2ClXmy2k"
      },
      "outputs": [],
      "source": [
        "# import tkinter as tk\n",
        "# from tkinter import filedialog\n",
        "# from tkinter import *\n",
        "# from PIL import ImageTk, Image\n",
        "# import numpy\n",
        "# #load the trained model to classify sign\n",
        "# from keras.models import load_model\n",
        "# model = load_model('traffic_sign_classifier')\n",
        "# #dictionary to label all traffic signs class.\n",
        "# classes = { 1:'Speed limit (20km/h)',\n",
        "#            2:'Speed limit (30km/h)',\n",
        "#            3:'Speed limit (50km/h)',\n",
        "#            4:'Speed limit (60km/h)',\n",
        "#            5:'Speed limit (70km/h)',\n",
        "#            6:'Speed limit (80km/h)',\n",
        "#            7:'End of speed limit (80km/h)',\n",
        "#            8:'Speed limit (100km/h)',\n",
        "#            9:'Speed limit (120km/h)',\n",
        "#            10:'No passing',\n",
        "#            11:'No passing veh over 3.5 tons',\n",
        "#            12:'Right-of-way at intersection',\n",
        "#            13:'Priority road',\n",
        "#            14:'Yield',\n",
        "#            15:'Stop',\n",
        "#            16:'No vehicles',\n",
        "#            17:'Veh > 3.5 tons prohibited',\n",
        "#            18:'No entry',\n",
        "#            19:'General caution',\n",
        "#            20:'Dangerous curve left',\n",
        "#            21:'Dangerous curve right',\n",
        "#            22:'Double curve',\n",
        "#            23:'Bumpy road',\n",
        "#            24:'Slippery road',\n",
        "#            25:'Road narrows on the right',\n",
        "#            26:'Road work',\n",
        "#            27:'Traffic signals',\n",
        "#            28:'Pedestrians',\n",
        "#            29:'Children crossing',\n",
        "#            30:'Bicycles crossing',\n",
        "#            31:'Beware of ice/snow',\n",
        "#            32:'Wild animals crossing',\n",
        "#            33:'End speed + passing limits',\n",
        "#            34:'Turn right ahead',\n",
        "#            35:'Turn left ahead',\n",
        "#            36:'Ahead only',\n",
        "#            37:'Go straight or right',\n",
        "#            38:'Go straight or left',\n",
        "#            39:'Keep right',\n",
        "#            40:'Keep left',\n",
        "#            41:'Roundabout mandatory',\n",
        "#            42:'End of no passing',\n",
        "#            43:'End no passing vehicle with a weight greater than 3.5 tons' }\n",
        "# #initialise GUI\n",
        "# top=tk.Tk()\n",
        "# top.geometry('800x600')\n",
        "# top.title('Traffic sign classification')\n",
        "# top.configure(background='#CDCDCD')\n",
        "# label=Label(top,background='#CDCDCD', font=('arial',15,'bold'))\n",
        "# sign_image = Label(top)\n",
        "# def classify(file_path):\n",
        "#   #  global label_packed\n",
        "#    image = Image.open(file_path)\n",
        "#    image = image.resize((30,30))\n",
        "#    image = numpy.expand_dims(image, axis=0)\n",
        "#    image = numpy.array(image)\n",
        "#    pred = model.predict_classes([image])[0]\n",
        "#    sign = classes[pred+1]\n",
        "#    print(sign)\n",
        "#    label.configure(foreground='#011638', text=sign)\n",
        "# def show_classify_button(file_path):\n",
        "#    classify_b=Button(top,text=\"Classify Image\",command=lambda: classify(file_path),padx=10,pady=5)\n",
        "#    classify_b.configure(background='#364156', foreground='white',font=('arial',10,'bold'))\n",
        "#    classify_b.place(relx=0.79,rely=0.46)\n",
        "# def upload_image():\n",
        "#   try:\n",
        "#         file_path=filedialog.askopenfilename()\n",
        "#         uploaded=Image.open(file_path)\n",
        "#         uploaded.thumbnail(((top.winfo_width()/2.25),(top.winfo_height()/2.25)))\n",
        "#         im=ImageTk.PhotoImage(uploaded)\n",
        "#         sign_image.configure(image=im)\n",
        "#         sign_image.image=im\n",
        "#         label.configure(text='')\n",
        "#         show_classify_button(file_path)\n",
        "#   except:\n",
        "#         pass\n",
        "# upload=Button(top,text=\"Upload an image\",command=upload_image,padx=10,pady=5)\n",
        "# upload.configure(background='#364156', foreground='white',font=('arial',10,'bold'))\n",
        "# upload.pack(side=BOTTOM,pady=50)\n",
        "# sign_image.pack(side=BOTTOM,expand=True)\n",
        "# label.pack(side=BOTTOM,expand=True)\n",
        "# heading = Label(top, text=\"check traffic sign\",pady=20, font=('arial',20,'bold'))\n",
        "# heading.configure(background='#CDCDCD',foreground='#364156')\n",
        "# heading.pack()\n",
        "# top.mainloop()"
      ]
    },
    {
      "cell_type": "code",
      "execution_count": null,
      "metadata": {
        "id": "CskQ89PibxkB"
      },
      "outputs": [],
      "source": [
        "resnet_model = Sequential()\n",
        "\n",
        "pretrained_model= tf.keras.applications.ResNet50(include_top=False,\n",
        "                   input_shape=(32,32,3),\n",
        "                   pooling='max',classes=1000,\n",
        "                   weights='imagenet')\n",
        "for layer in pretrained_model.layers:\n",
        "        layer.trainable=False\n",
        "\n",
        "resnet_model.add(pretrained_model)\n",
        "resnet_model.add(Flatten())\n",
        "# resnet_model.add(Dense(1200, activation='relu'))\n",
        "# resnet_model.add(Dropout(rate=0.5))\n",
        "# resnet_model.add(Dense(512, activation='relu'))\n",
        "# resnet_model.add(Dense(43, activation='softmax'))\n",
        "# resnet_model.add(Conv2D(filters=32, kernel_size=(5,5), activation='relu'))\n",
        "# resnet_model.add(Conv2D(filters=32, kernel_size=(5,5), activation='relu'))\n",
        "# resnet_model.add(MaxPool2D(pool_size=(2, 2)))\n",
        "# resnet_model.add(Dropout(rate=0.25))\n",
        "# resnet_model.add(Conv2D(filters=64, kernel_size=(3, 3), activation='relu',input_shape=X_t1.shape[1:]))\n",
        "# resnet_model.add(Conv2D(filters=64, kernel_size=(3, 3), activation='relu'))\n",
        "# resnet_model.add(MaxPool2D(pool_size=(2, 2)))\n",
        "# resnet_model.add(Dropout(rate=0.25))\n",
        "resnet_model.add(Flatten())\n",
        "resnet_model.add(Dense(4100, activation='relu'))\n",
        "resnet_model.add(Dropout(rate=0.25))\n",
        "resnet_model.add(Dense(2048, activation='relu'))\n",
        "resnet_model.add(Dense(1024, activation='relu'))\n",
        "resnet_model.add(Dense(512, activation='relu'))\n",
        "resnet_model.add(Dropout(rate=0.25))\n",
        "resnet_model.add(Dense(256, activation='relu'))\n",
        "resnet_model.add(Dropout(rate=0.5))\n",
        "resnet_model.add(Dense(43, activation='softmax'))\n",
        "#Compilation of the model\n",
        "resnet_model.compile(loss='categorical_crossentropy', optimizer='adam', metrics=['accuracy'])\n"
      ]
    },
    {
      "cell_type": "code",
      "execution_count": null,
      "metadata": {
        "id": "GgF0Q91Gbt4o"
      },
      "outputs": [],
      "source": [
        "resnet_model.compile(loss='categorical_crossentropy', optimizer='adam', metrics=['accuracy'])"
      ]
    },
    {
      "cell_type": "code",
      "execution_count": null,
      "metadata": {
        "colab": {
          "background_save": true,
          "base_uri": "https://localhost:8080/"
        },
        "id": "dsf0euMpbt7s",
        "outputId": "334dd588-a3b2-4776-93e7-67e8f32e5684"
      },
      "outputs": [
        {
          "name": "stdout",
          "output_type": "stream",
          "text": [
            "Epoch 1/20\n",
            "981/981 [==============================] - 25s 19ms/step - loss: 2.2578 - accuracy: 0.3319 - val_loss: 1.7134 - val_accuracy: 0.4452\n",
            "Epoch 2/20\n",
            "981/981 [==============================] - 18s 18ms/step - loss: 1.6688 - accuracy: 0.4694 - val_loss: 1.3987 - val_accuracy: 0.5446\n",
            "Epoch 3/20\n",
            "981/981 [==============================] - 18s 18ms/step - loss: 1.4395 - accuracy: 0.5467 - val_loss: 1.2877 - val_accuracy: 0.5822\n",
            "Epoch 4/20\n",
            "981/981 [==============================] - 18s 18ms/step - loss: 1.2514 - accuracy: 0.6097 - val_loss: 1.1433 - val_accuracy: 0.6408\n",
            "Epoch 5/20\n",
            "981/981 [==============================] - 19s 19ms/step - loss: 1.1518 - accuracy: 0.6449 - val_loss: 1.0235 - val_accuracy: 0.6705\n",
            "Epoch 6/20\n",
            "981/981 [==============================] - 17s 18ms/step - loss: 1.0568 - accuracy: 0.6756 - val_loss: 0.9549 - val_accuracy: 0.7058\n",
            "Epoch 7/20\n",
            "981/981 [==============================] - 18s 18ms/step - loss: 0.9748 - accuracy: 0.7055 - val_loss: 0.9068 - val_accuracy: 0.7212\n",
            "Epoch 8/20\n",
            "981/981 [==============================] - 18s 18ms/step - loss: 0.9106 - accuracy: 0.7302 - val_loss: 0.8753 - val_accuracy: 0.7456\n",
            "Epoch 9/20\n",
            "981/981 [==============================] - 18s 18ms/step - loss: 0.8384 - accuracy: 0.7511 - val_loss: 0.8047 - val_accuracy: 0.7578\n",
            "Epoch 10/20\n",
            "981/981 [==============================] - 18s 18ms/step - loss: 0.7926 - accuracy: 0.7655 - val_loss: 0.7963 - val_accuracy: 0.7679\n",
            "Epoch 11/20\n",
            "981/981 [==============================] - 17s 18ms/step - loss: 0.7817 - accuracy: 0.7775 - val_loss: 0.7738 - val_accuracy: 0.7724\n",
            "Epoch 12/20\n",
            "981/981 [==============================] - 18s 18ms/step - loss: 0.7252 - accuracy: 0.7908 - val_loss: 0.7412 - val_accuracy: 0.7841\n",
            "Epoch 13/20\n",
            "981/981 [==============================] - 17s 18ms/step - loss: 0.6895 - accuracy: 0.8050 - val_loss: 0.7030 - val_accuracy: 0.8002\n",
            "Epoch 14/20\n",
            "981/981 [==============================] - 17s 18ms/step - loss: 0.6875 - accuracy: 0.8060 - val_loss: 0.7062 - val_accuracy: 0.8041\n",
            "Epoch 15/20\n",
            "981/981 [==============================] - 20s 21ms/step - loss: 0.6937 - accuracy: 0.8145 - val_loss: 0.7248 - val_accuracy: 0.7841\n",
            "Epoch 16/20\n",
            "981/981 [==============================] - 17s 18ms/step - loss: 0.6380 - accuracy: 0.8277 - val_loss: 0.6967 - val_accuracy: 0.8213\n",
            "Epoch 17/20\n",
            "981/981 [==============================] - 17s 18ms/step - loss: 0.6139 - accuracy: 0.8321 - val_loss: 0.6799 - val_accuracy: 0.8151\n",
            "Epoch 18/20\n",
            "981/981 [==============================] - 17s 18ms/step - loss: 0.5904 - accuracy: 0.8453 - val_loss: 0.6680 - val_accuracy: 0.8180\n",
            "Epoch 19/20\n",
            "981/981 [==============================] - 17s 18ms/step - loss: 0.6078 - accuracy: 0.8401 - val_loss: 0.6215 - val_accuracy: 0.8273\n",
            "Epoch 20/20\n",
            "981/981 [==============================] - 17s 17ms/step - loss: 0.5724 - accuracy: 0.8464 - val_loss: 0.6255 - val_accuracy: 0.8417\n"
          ]
        }
      ],
      "source": [
        "history = resnet_model.fit(X_t1, y_t1, batch_size=32, epochs=20, validation_data=(X_t2, y_t2))"
      ]
    },
    {
      "cell_type": "code",
      "execution_count": null,
      "metadata": {
        "id": "E6N8hZoKmy5L"
      },
      "outputs": [],
      "source": []
    },
    {
      "cell_type": "code",
      "execution_count": null,
      "metadata": {
        "id": "zrBMPt8qmy8_"
      },
      "outputs": [],
      "source": []
    }
  ],
  "metadata": {
    "accelerator": "GPU",
    "colab": {
      "provenance": [],
      "gpuType": "T4",
      "authorship_tag": "ABX9TyOSTQvB42Wd6DPb7LNJkbbZ",
      "include_colab_link": true
    },
    "kernelspec": {
      "display_name": "Python 3",
      "name": "python3"
    },
    "language_info": {
      "name": "python"
    }
  },
  "nbformat": 4,
  "nbformat_minor": 0
}